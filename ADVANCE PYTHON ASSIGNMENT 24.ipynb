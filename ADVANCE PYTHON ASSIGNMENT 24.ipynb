{
 "cells": [
  {
   "cell_type": "markdown",
   "id": "93339284",
   "metadata": {},
   "source": [
    "## ADVANCE PYTHON ASSIGNMENT 24"
   ]
  },
  {
   "cell_type": "markdown",
   "id": "cf826021",
   "metadata": {},
   "source": [
    "Q1. Is it permissible to use several import statements to import the same module? What would the goal be?\n",
    "    Can you think of a situation where it would be beneficial ?\n",
    "    \n",
    "    \n",
    "Ans: Yes, it is permissible to use several import statements to import the same module. It is used in case when we have \n",
    "      to import multiple functions from same module."
   ]
  },
  {
   "cell_type": "markdown",
   "id": "636be54c",
   "metadata": {},
   "source": [
    "Q2. What are some of a module's characteristics? (Name at least one.)\n",
    "\n",
    "Ans: The following are some of a module's characteristics:\n",
    "\n",
    "*__name__ : It returns the name of the module*\n",
    "    \n",
    "*__doc__ : It denotes the documentation string line written in a module code*.\n",
    "    \n",
    "*__file__ : It holds the name and path of the module file from which it is loaded*\n",
    "    \n",
    "*__dict__ : It returns a dictionary object of module attributes, functions and other definitions and their respective values*"
   ]
  },
  {
   "cell_type": "markdown",
   "id": "34959e6c",
   "metadata": {},
   "source": [
    "Q3. Circular importing, such as when two modules import each other, can lead to dependencies and bugs that aren't visible.\n",
    "    How can you go about creating a program that avoids mutual importing?\n",
    "    \n",
    "    \n",
    "Ans: Circular importing means importing the two modules in each other. If suppose we are wokring in MOD1.py file and it \n",
    "    is importing some function say F2() from some other module say MOD2.PY file or we can do vice-versa. What will happen is: \n",
    "    This will give an import error.This is because when we import F2() function from module MOD2.py, then this will execute\n",
    "    MOD2.py file and in MOD2.py file, there is another statement of importing MOD1.py module.\n",
    "    This will result in endless loop. To avoid this error, we can use if __name__ == '__main__'\n",
    "    In this function, we can't directly refer to the function in the program. The addition of this sentence avoids the\n",
    "    endless loop of the program . We can use an if name == \"main\" block to allow or prevent parts of code from being run \n",
    "    when the modules are imported. When the Python interpreter reads a file, the name variable is set as main if the module\n",
    "    being run, or as the module's name if it is imported"
   ]
  },
  {
   "cell_type": "markdown",
   "id": "a1c39e04",
   "metadata": {},
   "source": [
    "Q4. Why is __all__ in Python ?\n",
    "\n",
    "\n",
    "Ans: It provides the list of all modules present in a library."
   ]
  },
  {
   "cell_type": "markdown",
   "id": "68490ee7",
   "metadata": {},
   "source": [
    "Q5. In what situation is it useful to refer to the __name__ attribute or the string __main_ _ \n",
    "\n",
    "\n",
    "Ans: During the time of execution of the code, if we want to refer the module in which we are working on, then we\n",
    "    use __name__ attribute. In that case it will return the module in which we are working on. Suppose if the module \n",
    "    is being imported from some other module, then name will have the name of that module from where the current module has\n",
    "    been imported. The current module in which we are working is refer to the string __main __.This built-in attributes prints \n",
    "    the name of the class, type, function, method, descriptor, or generator instance.\n",
    "    For example, if the python interpreter is running that module (the source file) as the main program, it sets the\n",
    "    special name variable to have a value \"main\". If this file is being imported from another module, name will be set to \n",
    "    the module's name."
   ]
  }
 ],
 "metadata": {
  "kernelspec": {
   "display_name": "Python 3 (ipykernel)",
   "language": "python",
   "name": "python3"
  },
  "language_info": {
   "codemirror_mode": {
    "name": "ipython",
    "version": 3
   },
   "file_extension": ".py",
   "mimetype": "text/x-python",
   "name": "python",
   "nbconvert_exporter": "python",
   "pygments_lexer": "ipython3",
   "version": "3.9.12"
  }
 },
 "nbformat": 4,
 "nbformat_minor": 5
}
