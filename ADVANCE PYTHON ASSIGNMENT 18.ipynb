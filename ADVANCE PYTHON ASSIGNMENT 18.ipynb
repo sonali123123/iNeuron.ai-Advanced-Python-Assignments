{
 "cells": [
  {
   "cell_type": "markdown",
   "id": "a5b59fdd",
   "metadata": {},
   "source": [
    "# ADVANCE PYTHON ASSIGNMENT 18"
   ]
  },
  {
   "cell_type": "markdown",
   "id": "e11712a9",
   "metadata": {},
   "source": [
    "Q1. Describe the differences between text and binary files in a single paragraph.\n",
    "\n",
    "\n",
    "Ans: The differences between Text Files and Binary Files are:\n",
    "\n",
    "Text files are special subset of binary files that are used to store human readable characters as a rich text document\n",
    "or plain text document. Text files also store data in sequential bytes but bits in text file represents characters. \n",
    "where as Binary files are those typical files that store data in the form of sequence of bytes grouped into eight bits \n",
    "or sometimes sixteen bits. These bits represent custom data and such files can store multiple types of data \n",
    "(images, audio, text, etc) under a single file."
   ]
  },
  {
   "cell_type": "markdown",
   "id": "5472c791",
   "metadata": {},
   "source": [
    "Q2. What are some scenarios where using text files will be the better option? When would you like to use binary files\n",
    "    instead of text files?\n",
    "    \n",
    "    \n",
    "Ans: Text files are less prone to get corrupted as any undesired change may just show up once the file is opened and then\n",
    "    can easily be removed whereas binary files can be used instead of text files for image data/video/audio. For many types \n",
    "    of data, binary representations are much more space-efficient. For instance, you could represent an image as a text file.\n",
    "    But any color represented as a 24-bit RGB value in a binary file has to be represented as a six-character code \n",
    "    (e.g. FFFFFF for white) in text, which is literally twice as many bits. Another reason for using binary formats is that \n",
    "    they can map directly onto the internal representation of the data that the program is using. If my program uses a \n",
    "    complex data structure that’s full of integer, float, and byte values, when I read it in from a text file I have to\n",
    "    parse every character of text and interpret it, spending processing time (and writing logic) to figure how to convert the\n",
    "    88 bits in “2983102931,” into the 32-bit integer that the text represents. If I read it from a binary file, the program \n",
    "    just copies those 32 bits from the file into memory."
   ]
  },
  {
   "cell_type": "markdown",
   "id": "b12932e8",
   "metadata": {},
   "source": [
    "Q3. What are some of the issues with using binary operations to read and write a Python integer directly to disc?\n",
    "\n",
    "\n",
    "Ans: When we read or write a python integer using binary operations\n",
    "\n",
    "Binary operations deal with raw data\n",
    "One needs to identify how many bytes one would read or write."
   ]
  },
  {
   "cell_type": "markdown",
   "id": "867265d2",
   "metadata": {},
   "source": [
    "Q4. Describe a benefit of using the with keyword instead of explicitly opening a file ?\n",
    "\n",
    "\n",
    "Ans: When a file is opened using the with keyword,it automatically closes the file if some exceptions occur after opening \n",
    "    a file, or at the end of the file . Thereby not leaving a file in open mode and also there would no need to explicitly \n",
    "    close a file. Using with means that the file will be closed as soon as you leave the block. This is beneficial because \n",
    "    closing a file is something that can easily be forgotten and ties up resources that you no longer need."
   ]
  },
  {
   "cell_type": "markdown",
   "id": "50069bd3",
   "metadata": {},
   "source": [
    "Q5. Does Python have the trailing newline while reading a line of text? Does Python append a newline when you write a\n",
    "    line of text?\n",
    "    \n",
    "    \n",
    "Ans: Yes, Python have the trailing newline while reading a line of text. When we write, a newline has to be provided in\n",
    "    python explicitly to append a newline. Hence Python does not append a newline implicitly"
   ]
  },
  {
   "cell_type": "markdown",
   "id": "2c234110",
   "metadata": {},
   "source": [
    "Q6. What file operations enable for random-access operation?\n",
    "\n",
    "\n",
    "Ans: The file operations enable for random-access operation are seek() and tell()"
   ]
  },
  {
   "cell_type": "markdown",
   "id": "12a9b0f5",
   "metadata": {},
   "source": [
    "Q7. When do you think you'll use the struct package the most?\n",
    "\n",
    "Ans: The struct package is mostly used while converting a common python language types into C language types."
   ]
  },
  {
   "cell_type": "markdown",
   "id": "0c3a7e79",
   "metadata": {},
   "source": [
    "Q8. When is pickling the best option?\n",
    "\n",
    "\n",
    "Ans: Pickling is best option for creating a new binary file using python. Pickle in Python is primarily used in serializing\n",
    "    and deserializing a Python object structure. In other words, it’s the process of converting a Python object into a byte \n",
    "    stream to store it in a file/database, maintain program state across sessions, or transport data over the network. \n",
    "    The pickled byte stream can be used to re-create the original object hierarchy by unpickling the stream. This whole process\n",
    "    is similar to object serialization in Java or .Net.\n",
    "\n"
   ]
  },
  {
   "cell_type": "markdown",
   "id": "dadd61e4",
   "metadata": {},
   "source": [
    "Q9. When will it be best to use the shelve package?\n",
    "\n",
    "\n",
    "Ans: Shelve package is used to pickle data but treats the entire file as dictionary. A “shelf” is a persistent, dictionary-like\n",
    "    object. The difference with “dbm” databases is that the values (not the keys) in a shelf can be essentially arbitrary\n",
    "    Python objects — anything that the pickle module can handle. This includes most class instances, recursive data types, \n",
    "    and objects containing lots of shared sub-objects. The keys are ordinary strings.\n",
    "\n",
    "Syntax: shelve.open(filename, flag='c', protocol=None, writeback=False)"
   ]
  },
  {
   "cell_type": "markdown",
   "id": "cfb779f4",
   "metadata": {},
   "source": [
    "Q10. What is a special restriction when using the shelve package, as opposed to using other data dictionaries?\n",
    "\n",
    "\n",
    "Ans: Only string data type can be used as key in this special dictionary (shelve package) object, whereas any pickle Python \n",
    "    object can be used as value."
   ]
  }
 ],
 "metadata": {
  "kernelspec": {
   "display_name": "Python 3 (ipykernel)",
   "language": "python",
   "name": "python3"
  },
  "language_info": {
   "codemirror_mode": {
    "name": "ipython",
    "version": 3
   },
   "file_extension": ".py",
   "mimetype": "text/x-python",
   "name": "python",
   "nbconvert_exporter": "python",
   "pygments_lexer": "ipython3",
   "version": "3.9.12"
  }
 },
 "nbformat": 4,
 "nbformat_minor": 5
}
