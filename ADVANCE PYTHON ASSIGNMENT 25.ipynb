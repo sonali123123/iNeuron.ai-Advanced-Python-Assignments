{
 "cells": [
  {
   "cell_type": "markdown",
   "id": "27b756e6",
   "metadata": {},
   "source": [
    "## ADVANCE PYTHON ASSIGNMENT 25"
   ]
  },
  {
   "cell_type": "markdown",
   "id": "3fdfc02f",
   "metadata": {},
   "source": [
    "1. What is the distinction between a numpy array and a pandas data frame? Is there a way to convert between the two if there \n",
    "   is ?\n",
    "    \n",
    "Ans: Numpy Ndarray provides a lot of convenient and optimized methods for performing several mathematical operations on vectors.\n",
    "    Pandas Dataframe is an in-memory 2-dimensional tabular representation of data. In simpler words, it can be seen as a \n",
    "    spreadsheet having rows and columns.Conversion : Dataframe=pandas.DataFrame(array)"
   ]
  },
  {
   "cell_type": "markdown",
   "id": "5d09bfe7",
   "metadata": {},
   "source": [
    "Q2. Identify some of the plotting techniques that are used to produce a stock-market chart ?\n",
    "\n",
    "Ans: Bar chart, Line Chart, Candlestick chart (using mplfinance module) are used for plotting stock market chart."
   ]
  },
  {
   "cell_type": "markdown",
   "id": "df05a719",
   "metadata": {},
   "source": [
    "Q3. Why is it essential to print a legend on a stock market chart ?\n",
    "\n",
    "\n",
    "Ans: Legend will help us in comparing different stocks in a stock market chart. Each plot of a Stock chart has a legend,\n",
    "    its items representing the series on the plot. In addition, the legend displays information about the points that are \n",
    "    currently hovered over or, if none are hovered over, about the last points shown on the plot. The text of a legend item \n",
    "    includes the name of a series and, depending on the series type, the value or values of the current or last point. \n",
    "    The legend title, enabled by default, shows the current or last date (X-value)."
   ]
  },
  {
   "cell_type": "markdown",
   "id": "038f49ee",
   "metadata": {},
   "source": [
    "Q4. What is the best way to limit the length of a pandas data frame to less than a year ?\n",
    "\n",
    "Ans: : We can use start and end parameters for that. In start, we write the date from where we are starting and at the end,\n",
    "        we write the end date. SO within this span we can restrict the duration. Also, we can use the parameters like periods\n",
    "        i.e for how much times we need the duration and we can also use the frequency parameter for that."
   ]
  },
  {
   "cell_type": "markdown",
   "id": "3258dfc9",
   "metadata": {},
   "source": [
    "Q5. What is the definition of a 180-day moving average ?\n",
    "\n",
    "Ans: : The 180-day moving average is represented as a line on charts and represents the average price over the past 180 days.\n",
    "        The moving average can give traders a sense regarding whether the trend is up or down, while also identifying potential\n",
    "        support or resistance areas. A moving average (MA) is a stock indicator that is commonly used in technical analysis.\n",
    "        The reason for calculating the moving average of a stock is to help smooth out the price data over a specified period \n",
    "        of time by creating a constantly updated average price. A simple moving average (SMA) is a calculation that takes the\n",
    "        arithmetic mean of a given set of prices over the specific number of days in the past; for example, in this case over\n",
    "        180 days."
   ]
  }
 ],
 "metadata": {
  "kernelspec": {
   "display_name": "Python 3 (ipykernel)",
   "language": "python",
   "name": "python3"
  },
  "language_info": {
   "codemirror_mode": {
    "name": "ipython",
    "version": 3
   },
   "file_extension": ".py",
   "mimetype": "text/x-python",
   "name": "python",
   "nbconvert_exporter": "python",
   "pygments_lexer": "ipython3",
   "version": "3.9.12"
  }
 },
 "nbformat": 4,
 "nbformat_minor": 5
}
