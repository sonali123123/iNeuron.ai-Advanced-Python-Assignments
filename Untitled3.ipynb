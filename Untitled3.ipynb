{
 "cells": [
  {
   "cell_type": "markdown",
   "id": "c5294c75",
   "metadata": {},
   "source": [
    "# Advance Python Assignment 3"
   ]
  },
  {
   "cell_type": "markdown",
   "id": "6cf58438",
   "metadata": {},
   "source": [
    "**Q1. What is the concept of an abstract superclass?**"
   ]
  },
  {
   "cell_type": "markdown",
   "id": "90296b19",
   "metadata": {},
   "source": [
    "Ans1. An abstract class/superclass can be considered as a blueprint for other classes. It allows US to create a set of methods that must be created within any child classes built from the abstract class. A class which contains one or more abstract methods is called an abstract class Whereas an abstract method is a method that has a declaration but does not have an implementation"
   ]
  },
  {
   "cell_type": "code",
   "execution_count": 1,
   "id": "6fc83c92",
   "metadata": {},
   "outputs": [],
   "source": [
    "from abc import ABC, abstractmethod\n",
    "class Flower(ABC): # Abstract Class\n",
    "    @abstractmethod\n",
    "    def typeOfFlow(self): # Abstract Method\n",
    "        pass\n",
    "class Rose(Flower):\n",
    "    def typeOfFlow(self):  # overriding abstract method in child class Rose\n",
    "        print(\"I have rose\")\n",
    "class Jasmine(Flower):\n",
    "    def typeOfFlow(self): # overriding abstract method in child class Jasmine\n",
    "        print(\"I have jasmine\")"
   ]
  },
  {
   "cell_type": "markdown",
   "id": "1d366b3f",
   "metadata": {},
   "source": [
    "**Q2. What happens when a class statement's top level contains a basic assignment statement?**"
   ]
  },
  {
   "cell_type": "markdown",
   "id": "84384a06",
   "metadata": {},
   "source": [
    "Ans2.: When a Class statement's top level contains a basic assignment statement, it is usually treated as a class attribute or class level variable where as assignment statements inside methods are treated as instance attributes or local attributes.\n",
    "\n",
    "When an instance of a class is created, a single copy of class attributes is maintained and shared to all instances of class where as each instance object maintains its own copy of instance variables."
   ]
  },
  {
   "cell_type": "code",
   "execution_count": 3,
   "id": "79eb3110",
   "metadata": {},
   "outputs": [],
   "source": [
    "class Proffession:\n",
    "    gender= 'MaleOrFemale' # class attribute\n",
    "    def __init__(self,name,gender,occupation):\n",
    "        self.name = name # instance attributes\n",
    "        self.gender = gender\n",
    "        self.occupation = occupation"
   ]
  },
  {
   "cell_type": "markdown",
   "id": "02e1c8cf",
   "metadata": {},
   "source": [
    "**Q3. Why does a class need to manually call a superclass's init method?**"
   ]
  },
  {
   "cell_type": "markdown",
   "id": "6fd13b0d",
   "metadata": {},
   "source": [
    "Ans3: if a child class has __init__ method, then it will not inherit the __init__ method of the parent class. In other words the __init__ method of the child class overrides the __init__ method of the parent class. So, we have to manually call a parent superclass's __init__ using super() method"
   ]
  },
  {
   "cell_type": "code",
   "execution_count": 7,
   "id": "160eb746",
   "metadata": {},
   "outputs": [
    {
     "name": "stdout",
     "output_type": "stream",
     "text": [
      "{'name': 'Sonali', 'gender': 'Female', 'role': 'Data Scientist', 'salary': 80000}\n"
     ]
    }
   ],
   "source": [
    "class Occupation:\n",
    "    def __init__(self,name,gender):\n",
    "        self.name = name\n",
    "        self.gender=gender\n",
    "class RoleType(Occupation):\n",
    "    def __init__(self,name,gender,role,salary):\n",
    "        super().__init__(name,gender)\n",
    "        self.role = role\n",
    "        self.salary = salary\n",
    "emp = RoleType(\"Sonali\",\"Female\",\"Data Scientist\",80000)\n",
    "print(emp.__dict__)"
   ]
  },
  {
   "cell_type": "markdown",
   "id": "73ec2ce0",
   "metadata": {},
   "source": [
    "**Q4. How can you augment, instead of completely replacing, an inherited method?**"
   ]
  },
  {
   "cell_type": "markdown",
   "id": "1a94cf33",
   "metadata": {},
   "source": [
    "Ans4. super() method can be used to augment, instead of completely replacing, an inherited method."
   ]
  },
  {
   "cell_type": "code",
   "execution_count": 8,
   "id": "824cbe57",
   "metadata": {},
   "outputs": [
    {
     "name": "stdout",
     "output_type": "stream",
     "text": [
      "{'name': 'Sonali', 'gender': 'Female', 'role': 'Data Scientist', 'salary': 80000}\n"
     ]
    }
   ],
   "source": [
    "class Occupation:\n",
    "    def __init__(self,name,gender):\n",
    "        self.name = name\n",
    "        self.gender=gender\n",
    "class RoleType(Occupation):\n",
    "    def __init__(self,name,gender,role,salary):\n",
    "        super().__init__(name,gender)\n",
    "        self.role = role\n",
    "        self.salary = salary\n",
    "emp = RoleType(\"Sonali\",\"Female\",\"Data Scientist\",80000)\n",
    "print(emp.__dict__)"
   ]
  },
  {
   "cell_type": "markdown",
   "id": "55b3cb8c",
   "metadata": {},
   "source": [
    "**Q5. How is the local scope of a class different from that of a function?**"
   ]
  },
  {
   "cell_type": "markdown",
   "id": "8ad083d9",
   "metadata": {},
   "source": [
    "Ans5: A Variable which is defined inside a function is local to that function. It is accesible from the point at which it is defined until the end of the function, and exists for as long as the function is existing.\n",
    "\n",
    "Similary a variable inside of a class also has a local variable scope. Variables which are defined in the class body (but outside all methods) are called as class level variables or class attributes. They can be referenced by their bare names within the same scope, but they can also be accessed from outside this scope if we use the attribute access operator (.) on a class or an instance of the class."
   ]
  }
 ],
 "metadata": {
  "kernelspec": {
   "display_name": "Python 3 (ipykernel)",
   "language": "python",
   "name": "python3"
  },
  "language_info": {
   "codemirror_mode": {
    "name": "ipython",
    "version": 3
   },
   "file_extension": ".py",
   "mimetype": "text/x-python",
   "name": "python",
   "nbconvert_exporter": "python",
   "pygments_lexer": "ipython3",
   "version": "3.9.12"
  }
 },
 "nbformat": 4,
 "nbformat_minor": 5
}
