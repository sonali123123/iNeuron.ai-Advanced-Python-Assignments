{
 "cells": [
  {
   "cell_type": "markdown",
   "id": "830e599e",
   "metadata": {},
   "source": [
    "## ADVANCE PYTHON ASSIGNMENT 22"
   ]
  },
  {
   "cell_type": "markdown",
   "id": "e69c26d8",
   "metadata": {},
   "source": [
    "Q1. What are the benefits of the built-in array package, if any?\n",
    "\n",
    "\n",
    "Ans1: Arrays represent multiple data items of the same type using a single name. In arrays, the elements can be accessed \n",
    "    randomly by using the index number. Arrays allocate memory in contiguous memory locations for all its elements. Hence, \n",
    "    there is no chance of extra memory being allocated in case of arrays. This avoids memory overflow or shortage of memory \n",
    "    in arrays.Lists and NumPy Arrays usually are much better alternatives. That’s also the reason why rarely people knows Python\n",
    "    has a built-in Array type.However, when something is restricted, it must bring some benefits. That is the so-call \n",
    "    “trade-off”. In this case, Python Array will have a smaller size than Python List. This is demonstrated below."
   ]
  },
  {
   "cell_type": "code",
   "execution_count": 2,
   "id": "1a00892e",
   "metadata": {},
   "outputs": [
    {
     "data": {
      "text/plain": [
       "800040"
      ]
     },
     "execution_count": 2,
     "metadata": {},
     "output_type": "execute_result"
    }
   ],
   "source": [
    "from array import array\n",
    "list_large = list(range(0, 100000))\n",
    "arr_large = array('I', list_large)\n",
    "\n",
    "arr_large.__sizeof__()  #Size comes out to be 400064\n",
    "list_large.__sizeof__() #Size comes out to be 900088"
   ]
  },
  {
   "cell_type": "code",
   "execution_count": 3,
   "id": "965a1f27",
   "metadata": {},
   "outputs": [
    {
     "name": "stdout",
     "output_type": "stream",
     "text": [
      "array('i', [1, 2, 3, 4])\n"
     ]
    }
   ],
   "source": [
    "#Using Built in Array\n",
    "import array as built_in\n",
    "array1 = built_in.array('i', [1, 2])\n",
    "array1.append(3)\n",
    "array1.append(4)\n",
    "print(array1)"
   ]
  },
  {
   "cell_type": "markdown",
   "id": "c3bebb5c",
   "metadata": {},
   "source": [
    "Q2. What are some of the array package's limitations ?\n",
    "\n",
    "\n",
    "AnS:The number of elements to be stored in an array should be known in advance.An array is a static structure\n",
    "    (which means the array is of fixed size). Once declared the size of the array cannot be modified. The memory which \n",
    "    is allocated to it cannot be increased or decreased.Insertion and deletion are quite difficult in an array as the elements \n",
    "    are stored in consecutive memory locations and the shifting operation is costly.Allocating more memory than the requirement \n",
    "    leads to wastage of memory space and less allocation of memory also leads to a problem"
   ]
  },
  {
   "cell_type": "markdown",
   "id": "b1c332ac",
   "metadata": {},
   "source": [
    "Q3. Describe the main differences between the array and numpy packages ?\n",
    "\n",
    "\n",
    "Ans3: The array package doesn't provide any help with numerical calculation with the items insdie it in number form while \n",
    "    NumPy give you a wide variety of numerical operations.An array is a single dimensional entity which hold the numerical \n",
    "    data, while numpy can have more than 1 dimension.In case of array, item can be accessed by its index position and it is \n",
    "    easy task while in numpy item is accessed by its column and row index, which makes it slightly time taking.\n",
    "    Same goes with appending operation.In case of array we do not form a tabular structure, while in numpy it forms a tabular \n",
    "    structure"
   ]
  },
  {
   "cell_type": "markdown",
   "id": "d6c3c4f9",
   "metadata": {},
   "source": [
    "Q4. Explain the distinctions between the empty, ones, and zeros functions ?\n",
    "\n",
    "\n",
    "Ans: The distinctions between the empty, ones, and zero functions are as follows :\n",
    "\n",
    "Empty function: An empty function is a function that does not contain any statement within its body. If you try to write\n",
    "    a function definition without any statement in python ,it will return an error. To avoid this, we use pass statement.\n",
    "    pass is a special statement in Python that does nothing. It only works as a dummy statement.\n",
    "\n",
    "Ones: This function returns a new array of given shape and data type, where the element’s value is 1.\n",
    "\n",
    "Zeros: This function returns a new array of given shape and data type, where the element’s value is 0."
   ]
  },
  {
   "cell_type": "markdown",
   "id": "8e9cd30c",
   "metadata": {},
   "source": [
    "Q5. In the fromfunction function, which is used to construct new arrays, what is the role of the callable argument ?\n",
    "\n",
    "\n",
    "Ans: Its function is to execute the function over each coordinate and the resulting array. The function is called with N \n",
    "    parameters, where N is the rank of shape. Each parameter represents the coordinates of the array varying along a specific\n",
    "    axis."
   ]
  },
  {
   "cell_type": "markdown",
   "id": "c138bbde",
   "metadata": {},
   "source": [
    "Q6. What happens when a numpy array is combined with a single-value operand (a scalar, such as an int or a floating-point value)\n",
    "     through addition, as in the expression A + n ?\n",
    "    \n",
    "    \n",
    "Ans: If any scaler value such as integer is added to the numpy array then all the elements inside the array will add that value\n",
    "    in it."
   ]
  },
  {
   "cell_type": "markdown",
   "id": "c0e7e090",
   "metadata": {},
   "source": [
    "Q7. Can array-to-scalar operations use combined operation-assign operators (such as += or *=)? What is the outcome ?\n",
    "\n",
    "Ans: It will carry out provided operation on all elements of array."
   ]
  },
  {
   "cell_type": "markdown",
   "id": "faff08d0",
   "metadata": {},
   "source": [
    "Q8. Does a numpy array contain fixed-length strings? What happens if you allocate a longer string to one of these arrays ?\n",
    "\n",
    "\n",
    "Ans: : Yes, it is possible that we can include a string of fixed length in numpy array. The dtype of any numpy array containing\n",
    "        string values is the maximum length of any string present in the array.Once set, it will only be able to store new\n",
    "        string having length not more than the maximum length at the time of the creation. If we try to reassign some another\n",
    "        string value having length greater than the maximum length of the existing elements, it simply discards all the values\n",
    "        beyond the maximum length accept upto those values which are under the limit."
   ]
  },
  {
   "cell_type": "markdown",
   "id": "db7cc474",
   "metadata": {},
   "source": [
    "Q9. What happens when you combine two numpy arrays using an operation like addition (+) or multiplication (*)? \n",
    "    What are the conditions for combining two numpy arrays ?\n",
    "    \n",
    "    \n",
    "Ans: It will simply add or multiply element to element at same position."
   ]
  },
  {
   "cell_type": "markdown",
   "id": "c2d5c652",
   "metadata": {},
   "source": [
    "Q10. What is the best way to use a Boolean array to mask another array ?\n",
    "\n",
    "\n",
    "Ans: The best way to use a Boolean array to mask another array is by Using masked_where of numpy package"
   ]
  },
  {
   "cell_type": "markdown",
   "id": "14e34404",
   "metadata": {},
   "source": [
    "Q11. What are three different ways to get the standard deviation of a wide collection of data using both standard Python and \n",
    "     its packages? Sort the three of them by how quickly they execute ?\n",
    "    \n",
    "    \n",
    "Ans: std() from Numpy package, stdev() from Statistics package and the third way is to write our own code as done with the\n",
    "    help of math package below:"
   ]
  },
  {
   "cell_type": "code",
   "execution_count": 4,
   "id": "f7fd9291",
   "metadata": {},
   "outputs": [
    {
     "name": "stdout",
     "output_type": "stream",
     "text": [
      "Standard Deviation of the sample is 17.56337730114064 \n"
     ]
    }
   ],
   "source": [
    "import numpy as np #for declaring an array\n",
    " \n",
    "def mean(data):\n",
    "  n = len(data)\n",
    "  mean = sum(data) / n\n",
    "  return mean\n",
    " \n",
    "def variance(data):\n",
    "  n = len(data)\n",
    "  mean = sum(data) / n\n",
    "  deviations = [(x - mean) ** 2 for x in data]\n",
    "  variance = sum(deviations) / n\n",
    "  return variance\n",
    " \n",
    "def stdev(data):\n",
    "  import math\n",
    "  var = variance(data)\n",
    "  std_dev = math.sqrt(var)\n",
    "  return std_dev\n",
    " \n",
    "data = np.array([7,5,4,9,12,54])\n",
    " \n",
    "print(\"Standard Deviation of the sample is % s \"% (stdev(data)))"
   ]
  },
  {
   "cell_type": "markdown",
   "id": "2388448e",
   "metadata": {},
   "source": [
    "12. What is the dimensionality of a Boolean mask-generated array ?\n",
    "\n",
    "\n",
    "Ans: It will have same dimensionality as input array. Masking comes up when we want to extract, modify, count, or otherwise \n",
    "    manipulate values in an array based on some criterion: for example, we might wish to count all values greater than a \n",
    "        certain value, or perhaps remove all outliers that are above some threshold. In NumPy, Boolean masking is often the\n",
    "        most efficient way to accomplish these types of tasks."
   ]
  }
 ],
 "metadata": {
  "kernelspec": {
   "display_name": "Python 3 (ipykernel)",
   "language": "python",
   "name": "python3"
  },
  "language_info": {
   "codemirror_mode": {
    "name": "ipython",
    "version": 3
   },
   "file_extension": ".py",
   "mimetype": "text/x-python",
   "name": "python",
   "nbconvert_exporter": "python",
   "pygments_lexer": "ipython3",
   "version": "3.9.12"
  }
 },
 "nbformat": 4,
 "nbformat_minor": 5
}
