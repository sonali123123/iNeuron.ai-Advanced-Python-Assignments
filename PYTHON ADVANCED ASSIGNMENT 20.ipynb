{
 "cells": [
  {
   "cell_type": "markdown",
   "id": "c3cd5799",
   "metadata": {},
   "source": [
    "## PYTHON ADVANCED ASSIGNMENT 20"
   ]
  },
  {
   "cell_type": "markdown",
   "id": "81139f71",
   "metadata": {},
   "source": [
    "Q1. Compare and contrast the float and Decimal classes' benefits and drawbacks ?\n",
    "\n",
    "Ans: Both the float and decimal types store numerical values in Python.\n",
    "\n",
    "We use floats when convenience and speed matter. A float gives us an approximation of the number we declare.\n",
    "\n",
    "We use decimals when precision matters. Decimals can suffer from their own precision issues, but generally,\n",
    "\n",
    "decimals are more precise than floats. The performance difference between float and decimal, with Python 3,\n",
    "is not outlandish, and in my experience, the precision benefits of a decimal outweigh the performance benefits of a float."
   ]
  },
  {
   "cell_type": "markdown",
   "id": "0b5abdb2",
   "metadata": {},
   "source": [
    "Q2. Decimal('1.200') and Decimal('1.2') are two objects to consider. In what sense are these the same object?\n",
    "Are these just two ways of representing the exact same value, or do they correspond to different internal states ?\n",
    "\n",
    "\n",
    "Ans2: Both values are same but internal representation at storage Is different. Precsion differs, Decimal('1.200') \n",
    "    gives internally 1.200 and Decimal('1.2') gives 1.2"
   ]
  },
  {
   "cell_type": "markdown",
   "id": "f616cb21",
   "metadata": {},
   "source": [
    "Q3. What happens if the equality of Decimal('1.200') and Decimal('1.2') is checked ?\n",
    "\n",
    "Ans3: Both values are checked to be equal since they only differ in precision."
   ]
  },
  {
   "cell_type": "markdown",
   "id": "4105af9c",
   "metadata": {},
   "source": [
    "Q4. Why is it preferable to start a Decimal object with a string rather than a floating-point value ?\n",
    "\n",
    "Ans4: Floating-point value is converted to Decimal format. Decimal can store float value with absolute precision. \n",
    "    But when float value is given as Decimal object,it first has to be converted from floating point value which might \n",
    "    already have rounding error.Hence it is preferable to start a Decimal object with a string."
   ]
  },
  {
   "cell_type": "markdown",
   "id": "bf9d6e6b",
   "metadata": {},
   "source": [
    "Q5. In an arithmetic phrase, how simple is it to combine Decimal objects with integers ?\n",
    "\n",
    "Ans5: We can do it with use of Decimal()."
   ]
  },
  {
   "cell_type": "markdown",
   "id": "3e05dfb3",
   "metadata": {},
   "source": [
    "Q6. Can Decimal objects and floating-point values be combined easily ?\n",
    "\n",
    "\n",
    "Ans6: Arithmetic operfations like Adding,subtracting or multiplying a Decimal object by a floating-point value generates \n",
    "    an error.To do these operations, the floating point has to be converted to a Decimal."
   ]
  },
  {
   "cell_type": "markdown",
   "id": "4c96a0aa",
   "metadata": {},
   "source": [
    "Q7. Using the Fraction class but not the Decimal class, give an example of a quantity that can be expressed with \n",
    "     absolute precision ?\n",
    "    \n",
    "Ans7: Value of 0.5 will be represented as ½."
   ]
  },
  {
   "cell_type": "markdown",
   "id": "479c07f0",
   "metadata": {},
   "source": [
    "Q8.Consider the following two fraction objects: Fraction(1, 2) and Fraction(1, 2). (5, 10). Is the internal state\n",
    "    of these two objects the same? Why do you think that is ?\n",
    "    \n",
    "    \n",
    "Ans8: Both will be reduced to 1/2"
   ]
  },
  {
   "cell_type": "markdown",
   "id": "fef47f04",
   "metadata": {},
   "source": [
    "Q9. How do the Fraction class and the integer type (int) relate to each other? Containment or inheritance ?\n",
    "\n",
    "Ans9: Fraction class and integer type(int) are related in form of a container. It contains two ints, one in the\n",
    "    numerator and the other in the denominator"
   ]
  }
 ],
 "metadata": {
  "kernelspec": {
   "display_name": "Python 3 (ipykernel)",
   "language": "python",
   "name": "python3"
  },
  "language_info": {
   "codemirror_mode": {
    "name": "ipython",
    "version": 3
   },
   "file_extension": ".py",
   "mimetype": "text/x-python",
   "name": "python",
   "nbconvert_exporter": "python",
   "pygments_lexer": "ipython3",
   "version": "3.9.12"
  }
 },
 "nbformat": 4,
 "nbformat_minor": 5
}
