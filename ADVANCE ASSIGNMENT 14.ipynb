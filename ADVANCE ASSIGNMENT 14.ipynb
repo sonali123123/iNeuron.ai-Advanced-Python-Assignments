{
 "cells": [
  {
   "cell_type": "markdown",
   "id": "f3440bb0",
   "metadata": {},
   "source": [
    "# ADVANCE PYTHON ASSIGNMENT 14"
   ]
  },
  {
   "cell_type": "markdown",
   "id": "3df07401",
   "metadata": {},
   "source": [
    "Q1. Is an assignment operator like += only for show? Is it possible that it would lead to faster results at the runtime ?\n",
    "\n",
    "Ans: A=A+1 evaluates to finding A, adding 1 to it. Then storing the value again in variable A. This expression makes Python to look for memory holder of 'a' twice. But A+=1 simply means value of A is to incremented by 1. As memory address has to be identified once, += leads to faster operation."
   ]
  },
  {
   "cell_type": "markdown",
   "id": "93948af3",
   "metadata": {},
   "source": [
    "Q2. What is the smallest no of statements you'd have to write in most programming languages to replace the Python expr a, b = a + b, a ?\n",
    "\n",
    "\n",
    "Ans: Minimum number of lines required to write above code in languages other Python will be 4, two for assigning initial values for variables a and b, and two for reassignment i.e. a=a+b and b=a."
   ]
  },
  {
   "cell_type": "markdown",
   "id": "6240853f",
   "metadata": {},
   "source": [
    "Q3. In Python, what is the most effective way to set a list of 100 integers to 0?\n",
    "\n",
    "Ans: The Most effective way to set a list of 100 integers to 0 in python is by using repition operator(*) or by using list comprehension."
   ]
  },
  {
   "cell_type": "code",
   "execution_count": 1,
   "id": "8f361af4",
   "metadata": {},
   "outputs": [
    {
     "name": "stdout",
     "output_type": "stream",
     "text": [
      "[0, 0, 0, 0, 0, 0, 0, 0, 0, 0, 0, 0, 0, 0, 0, 0, 0, 0, 0, 0, 0, 0, 0, 0, 0, 0, 0, 0, 0, 0, 0, 0, 0, 0, 0, 0, 0, 0, 0, 0, 0, 0, 0, 0, 0, 0, 0, 0, 0, 0, 0, 0, 0, 0, 0, 0, 0, 0, 0, 0, 0, 0, 0, 0, 0, 0, 0, 0, 0, 0, 0, 0, 0, 0, 0, 0, 0, 0, 0, 0, 0, 0, 0, 0, 0, 0, 0, 0, 0, 0, 0, 0, 0, 0, 0, 0, 0, 0, 0, 0]\n",
      "[0, 0, 0, 0, 0, 0, 0, 0, 0, 0, 0, 0, 0, 0, 0, 0, 0, 0, 0, 0, 0, 0, 0, 0, 0, 0, 0, 0, 0, 0, 0, 0, 0, 0, 0, 0, 0, 0, 0, 0, 0, 0, 0, 0, 0, 0, 0, 0, 0, 0, 0, 0, 0, 0, 0, 0, 0, 0, 0, 0, 0, 0, 0, 0, 0, 0, 0, 0, 0, 0, 0, 0, 0, 0, 0, 0, 0, 0, 0, 0, 0, 0, 0, 0, 0, 0, 0, 0, 0, 0, 0, 0, 0, 0, 0, 0, 0, 0, 0, 0]\n"
     ]
    }
   ],
   "source": [
    "# Method 1\n",
    "list_zero=[0]*100\n",
    "print(list_zero)\n",
    "# Method 2\n",
    "zero_list = [0 for x in range(100)]\n",
    "print(zero_list)"
   ]
  },
  {
   "cell_type": "markdown",
   "id": "5812f4d0",
   "metadata": {},
   "source": [
    "Q4. What is the most effective way to initialise a list of 99 integers that repeats the sequence 1, 2, 3? S If necessary, show step-by-step instructions on how to accomplish this."
   ]
  },
  {
   "cell_type": "code",
   "execution_count": 2,
   "id": "a8c61854",
   "metadata": {},
   "outputs": [
    {
     "name": "stdout",
     "output_type": "stream",
     "text": [
      "[1, 2, 3, 1, 2, 3, 1, 2, 3, 1, 2, 3, 1, 2, 3, 1, 2, 3, 1, 2, 3, 1, 2, 3, 1, 2, 3, 1, 2, 3, 1, 2, 3, 1, 2, 3, 1, 2, 3, 1, 2, 3, 1, 2, 3, 1, 2, 3, 1, 2, 3, 1, 2, 3, 1, 2, 3, 1, 2, 3, 1, 2, 3, 1, 2, 3, 1, 2, 3, 1, 2, 3, 1, 2, 3, 1, 2, 3, 1, 2, 3, 1, 2, 3, 1, 2, 3, 1, 2, 3, 1, 2, 3, 1, 2, 3, 1, 2, 3]\n"
     ]
    }
   ],
   "source": [
    "my_list = [1,2,3]*33\n",
    "print(my_list)"
   ]
  },
  {
   "cell_type": "markdown",
   "id": "9b92d21b",
   "metadata": {},
   "source": [
    "Q5. If you're using IDLE to run a Python application, explain how to print a multidimensional list as efficiently?"
   ]
  },
  {
   "cell_type": "code",
   "execution_count": 4,
   "id": "c082f357",
   "metadata": {},
   "outputs": [
    {
     "name": "stdout",
     "output_type": "stream",
     "text": [
      "1 2 2 3 3 4 4 5 5 6 6 7 7 8 8 9 "
     ]
    }
   ],
   "source": [
    "my_list = [[1,2],[2,3],[3,4],[4,5],[5,6],[6,7],[7,8],[8,9]]\n",
    "for x in range(len(my_list)):\n",
    "    for y in range(len(my_list[x])):\n",
    "        print(my_list[x][y],end=\" \")"
   ]
  },
  {
   "cell_type": "markdown",
   "id": "848b4558",
   "metadata": {},
   "source": [
    "Q6. Is it possible to use list comprehension with a string? If so, how can you go about doing it?\n",
    "\n",
    "Ans: List comprehension with string is possible."
   ]
  },
  {
   "cell_type": "code",
   "execution_count": 5,
   "id": "42ff071c",
   "metadata": {},
   "outputs": [
    {
     "name": "stdout",
     "output_type": "stream",
     "text": [
      "['D', 'a', 't', 'a', 'S', 'c', 'i', 'e', 'n', 'c', 'e']\n"
     ]
    }
   ],
   "source": [
    "my_list=[i for i in 'DataScience']\n",
    "print(my_list)"
   ]
  },
  {
   "cell_type": "markdown",
   "id": "77559a5f",
   "metadata": {},
   "source": [
    "Q7. From the command line, how do you get support with a user-written Python programme? Is this possible from inside IDLE?\n",
    "\n",
    "Ans: Get support with a user-written Python Programme: Start a command prompt (Windows) or terminal window (Linux/Mac). If the current working directory is the same as the location in which you saved the file, you can simply specify the filename as a command-line argument to the Python interpreter.\n",
    "\n",
    "Get support with a User-written Python Program from IDLE: You can also create script files and run them in IDLE. From the Shell window menu, select File → New File. That should open an additional editing window. Type in the code to be executed. From the menu in that window, select File → Save or File → Save As… and save the file to disk. Then select Run → Run Module. The output should appear back in the interpreter"
   ]
  },
  {
   "cell_type": "markdown",
   "id": "6d7c2a4f",
   "metadata": {},
   "source": [
    "Q8. Functions are said to be “first-class objects” in Python but not in most other languages, such as C++ or Java. What can you do in Python with a function (callable object) that you can't do in C or C++?\n",
    "\n",
    "\n",
    "Ans: The tasks which can be performed with the functions in python are:\n",
    "\n",
    "A function is an instance of the Object type.\n",
    "You can store the function in a variable.\n",
    "You can pass the function as a parameter to another function.\n",
    "You can return the function from a function.\n",
    "You can store them in data structures such as hash tables, lists,"
   ]
  },
  {
   "cell_type": "markdown",
   "id": "e29b574f",
   "metadata": {},
   "source": [
    "Q9. How do you distinguish between a wrapper, a wrapped feature, and a decorator?\n",
    "\n",
    "Ans: Wrappers Around the functions are known as Decrators."
   ]
  },
  {
   "cell_type": "markdown",
   "id": "34dbedfa",
   "metadata": {},
   "source": [
    "Q10. If a function is a generator function, what does it return?\n",
    "\n",
    "Ans: Generator functions are a special kind of function that return a lazy iterator. These are objects that you can loop over like a list. However, unlike lists, lazy iterators do not store their contents in memory."
   ]
  },
  {
   "cell_type": "markdown",
   "id": "79eee666",
   "metadata": {},
   "source": [
    "Q11. What is the one improvement that must be made to a function in order for it to become a generator function in the Python language?\n",
    "\n",
    "Ans: Generator is a written as normal function but uses yield keyword to return values instead of return keyword."
   ]
  },
  {
   "cell_type": "markdown",
   "id": "424a3a97",
   "metadata": {},
   "source": [
    "Q12. Identify at least one benefit of generators.\n",
    "\n",
    "Ans: return statement sends a specified value back to its caller whereas yield statment can produce a sequence of values. We should use generator when we want to iterate over a sequence, but don’t want to store the entire sequence in memory."
   ]
  }
 ],
 "metadata": {
  "kernelspec": {
   "display_name": "Python 3 (ipykernel)",
   "language": "python",
   "name": "python3"
  },
  "language_info": {
   "codemirror_mode": {
    "name": "ipython",
    "version": 3
   },
   "file_extension": ".py",
   "mimetype": "text/x-python",
   "name": "python",
   "nbconvert_exporter": "python",
   "pygments_lexer": "ipython3",
   "version": "3.9.12"
  }
 },
 "nbformat": 4,
 "nbformat_minor": 5
}
