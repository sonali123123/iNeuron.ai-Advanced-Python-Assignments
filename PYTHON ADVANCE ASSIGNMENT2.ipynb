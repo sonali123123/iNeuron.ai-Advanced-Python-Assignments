{
 "cells": [
  {
   "cell_type": "markdown",
   "id": "0aa2deda",
   "metadata": {},
   "source": [
    "# PYTHON ADVANCE ASSIGNMENT 2"
   ]
  },
  {
   "cell_type": "markdown",
   "id": "4fc89469",
   "metadata": {},
   "source": [
    "**Q1. What is the relationship between classes and modules?**"
   ]
  },
  {
   "cell_type": "markdown",
   "id": "eb11e8df",
   "metadata": {},
   "source": [
    "**Ans1: A Python Class is like a blueprint or outline to create an new object whereas modules are simply .py extension containing python code that can be imported inside another python program.\n",
    " So, we can consider a module to be same as python file contains a set of classes or functions.**"
   ]
  },
  {
   "cell_type": "markdown",
   "id": "a01586c6",
   "metadata": {},
   "source": [
    "**Q2. How do you make instance and classes?**"
   ]
  },
  {
   "cell_type": "markdown",
   "id": "5e3777b7",
   "metadata": {},
   "source": [
    "**Ans2. For creating a class we use class keyword followed by class name and semicolon.\n",
    "        For creating an instance , we call the class by its name and pass the argument which is __init__ method accepts.\n",
    "       For example:**\n",
    "       \n",
    "       "
   ]
  },
  {
   "cell_type": "markdown",
   "id": "2692ed23",
   "metadata": {},
   "source": [
    "class iNeuron:\n",
    "    \n",
    "    def __init__(self,course,name):\n",
    "        self.course=course\n",
    "        self.name=name\n",
    "stud=iNeuron('FSDS','Sonali')\n",
    "\n",
    "Here iNeuron is the \"class\" and stud is the \"instance\" of class iNeuron with arguments FSDS,Sonali.\n"
   ]
  },
  {
   "cell_type": "markdown",
   "id": "e534c73a",
   "metadata": {},
   "source": [
    "**Q3. Where and how class attributes created?**"
   ]
  },
  {
   "cell_type": "markdown",
   "id": "9a017ace",
   "metadata": {},
   "source": [
    "**Ans3. Class attributes are created on the top of the class defination outside all methods and will be shared by all instances\n",
    "of the class**"
   ]
  },
  {
   "cell_type": "markdown",
   "id": "eeb0c4f0",
   "metadata": {},
   "source": [
    "For Example:\n",
    "class iNeuron:\n",
    "    \n",
    "    course_type = JobGuarantee # this is a class attribute\n",
    "    \n",
    "    def __init__(self,course,name):\n",
    "        self.course=course  \n",
    "        self.name=name\n"
   ]
  },
  {
   "cell_type": "markdown",
   "id": "010e031b",
   "metadata": {},
   "source": [
    "**Q4.Where and how are instance attributes created?**"
   ]
  },
  {
   "cell_type": "markdown",
   "id": "4218b6be",
   "metadata": {},
   "source": [
    "Ans4: Instances attributes are passed to the class when an object of the class is created. Unlike class attributes, instance attributes are not shared by all objects of the classs. Instead each object maintains its own copy of instance attributes at object level whereas incase of class attributes, all instances of class refer to a single copy. Usually instance attributes are defined within the __init__ method of class.\n",
    "\n",
    "Example: In the below sample code we are creating a class Car with instance varaibles color, price, engine, which will be provided when an instance of class Car is created.\n",
    "\n",
    "class Car:\n",
    "    def __init__(self,color,price,engine):\n",
    "        self.color = color # All this are instance attributes\n",
    "        self.price = price\n",
    "        self.engine = engine\n",
    "\n",
    "nexon_ev = Car('Indigo Blue', 1400000, 'electric')\n",
    "safari = Car('Pearl White',2100000, 'petrol')\n",
    "nexon_ev, safari are both the instances of class Car with different instance variables."
   ]
  },
  {
   "cell_type": "markdown",
   "id": "45399688",
   "metadata": {},
   "source": [
    "**Q5. What does the term \"self\" in a Python class mean?**"
   ]
  },
  {
   "cell_type": "markdown",
   "id": "adaef914",
   "metadata": {},
   "source": [
    "**Ans: self represents the instance of the class (it represents the object itself). By using the “self” keyword we can access the attributes and methods of the class with in the class in python. It binds the attributes with the given arguments**\n",
    "\n",
    "​"
   ]
  },
  {
   "cell_type": "markdown",
   "id": "9fd0689a",
   "metadata": {},
   "source": [
    "**Q6.How does a Python class handle operator overloading?**"
   ]
  },
  {
   "cell_type": "markdown",
   "id": "aec2df94",
   "metadata": {},
   "source": [
    "**Ans: Python Classes handle operator overloading by using special methods called Magic methods. These special methods usually begin and end with __ (double underscore)\n",
    "Example: Magic methods for basic arithmetic operators are:\n",
    "\n",
    "+ -> __add__()\n",
    "- -> __sub__()\n",
    "* -> __mul__()\n",
    "/ -> __div__()**"
   ]
  },
  {
   "cell_type": "markdown",
   "id": "7e2579d6",
   "metadata": {},
   "source": [
    "**Q7. When do you consider allowing operator overloading of your classes?**"
   ]
  },
  {
   "cell_type": "markdown",
   "id": "59ab40c5",
   "metadata": {},
   "source": [
    "**Ans: We consider allowing operator overloading when we want to have different meaning for the same operator. For example operator + is used to add two integers as well as join two strings and merge two lists. It is achievable because ‘+’ operator is overloaded by int class and str class.**"
   ]
  },
  {
   "cell_type": "code",
   "execution_count": 9,
   "id": "61bb4b8f",
   "metadata": {},
   "outputs": [
    {
     "name": "stdout",
     "output_type": "stream",
     "text": [
      "3\n",
      "SonaliThakur\n",
      "12\n",
      "SonaliSonaliSonaliSonali\n"
     ]
    }
   ],
   "source": [
    "# Python program to show use of\n",
    "# + operator for different purposes.\n",
    " \n",
    "print(1 + 2)\n",
    " \n",
    "# concatenate two strings\n",
    "print(\"Sonali\"+\"Thakur\")\n",
    " \n",
    "# Product two numbers\n",
    "print(3 * 4)\n",
    " \n",
    "# Repeat the String\n",
    "print(\"Sonali\"*4)\n"
   ]
  },
  {
   "cell_type": "markdown",
   "id": "10e96830",
   "metadata": {},
   "source": [
    "**Q8. What is the most popular form of operator overloading?**"
   ]
  },
  {
   "cell_type": "markdown",
   "id": "779fd4d8",
   "metadata": {},
   "source": [
    "**Ans: The most popular form of operator overloading in python is by special methods called Magic methods. It usually begins and ends with double underscore __<method name>__.**"
   ]
  },
  {
   "cell_type": "markdown",
   "id": "52adca0d",
   "metadata": {},
   "source": [
    "**Q9. What are the two most important concepts to grasp in order to comprehend Python OOP code?**"
   ]
  },
  {
   "cell_type": "markdown",
   "id": "b6b5e30e",
   "metadata": {},
   "source": [
    "Ans: Classes and objects are the two most important concepts to grasp in order to comprehend python OOP code as more formally \n",
    "    objects are entities that represent instances of general abstract concept called class.\n",
    "\n",
    "Along with classes and objects the important concepts to grasp are:\n",
    "\n",
    "Inheritence\n",
    "Abstraction\n",
    "Polymorphism\n",
    "Encapsulation\n",
    " "
   ]
  }
 ],
 "metadata": {
  "kernelspec": {
   "display_name": "Python 3 (ipykernel)",
   "language": "python",
   "name": "python3"
  },
  "language_info": {
   "codemirror_mode": {
    "name": "ipython",
    "version": 3
   },
   "file_extension": ".py",
   "mimetype": "text/x-python",
   "name": "python",
   "nbconvert_exporter": "python",
   "pygments_lexer": "ipython3",
   "version": "3.9.12"
  }
 },
 "nbformat": 4,
 "nbformat_minor": 5
}
