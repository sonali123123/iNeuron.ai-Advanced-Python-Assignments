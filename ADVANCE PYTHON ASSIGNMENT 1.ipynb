{
 "cells": [
  {
   "cell_type": "code",
   "execution_count": 1,
   "id": "22577e4f",
   "metadata": {},
   "outputs": [],
   "source": [
    "#Q1. What is the purpose of Python's OOP?\n",
    "\n",
    "# Ans1. Object-Oriented Programming is a programming that provides a means of structuring programs so that properties and \n",
    "#        behaviours are bundled into individual objects.\n",
    "#        1.In Python, object-oriented programming uses objects and classes.\n",
    "#        2. It aims to implement real world entities like inheritence,polymorphism,encapsulation,etc. in the programming.\n",
    "#        3.The main concept of OOPs is to bind the data and the function that work on that together as a single unit so that no \n",
    "#          other part of the code can access this data."
   ]
  },
  {
   "cell_type": "code",
   "execution_count": 2,
   "id": "b0b670b6",
   "metadata": {},
   "outputs": [],
   "source": [
    "#Q2. Where does an inheritence search look for an attribute?\n",
    "\n",
    "\n",
    "#Ans2. Python searches for an attribute in an upward tree of attribute. The fir search for an attribute in its instance and \n",
    "#        then looks in the class it is generated from , to all super classes listed in its class header."
   ]
  },
  {
   "cell_type": "code",
   "execution_count": null,
   "id": "3f0283a5",
   "metadata": {},
   "outputs": [],
   "source": [
    "#Q3. How do you distinguish between a class object and an instance object?\n",
    "\n",
    "#Ans3. The difference between a class object and an instance object are:\n",
    "#        1. Class is a template for creating objects where objects is an instance class.\n",
    "#        2. Separate memory is allocated for each object whenever it  is created but for a class this deoes not happen.\n",
    "#        3. A class is created at once whereas many objects are created using a class.\n",
    "#        4. As classes have no allocated memory so they can't be manipulated but objects can be manipulated."
   ]
  },
  {
   "cell_type": "code",
   "execution_count": 3,
   "id": "bb7b38e6",
   "metadata": {},
   "outputs": [],
   "source": [
    "#Q4. What makes the first argument in a class's method function special?\n",
    "\n",
    "#Ans3. Python classe usually have three types of methods which are:\n",
    "#        1. Instance Methods(object level methods)\n",
    "#        2. Class Methods(class lecel methods)\n",
    "#        3. Static Methods(general utility method)\n",
    "#        4. self is the first argument for the instance methods, which refers to the oject itself.\n",
    "#        5. cls is the first argument for the class method which refers to the class itself."
   ]
  },
  {
   "cell_type": "code",
   "execution_count": 4,
   "id": "c86a0d18",
   "metadata": {},
   "outputs": [],
   "source": [
    "#Q5. What is the purpose of __init__ method?\n",
    "\n",
    "\n",
    "#Ans5 It serves the role of constructor in object oriented terminology. This method is called when an object is created from a \n",
    "#        class and it allows the class to intialize the attribute of the class."
   ]
  },
  {
   "cell_type": "code",
   "execution_count": 5,
   "id": "44db6160",
   "metadata": {},
   "outputs": [],
   "source": [
    "#Q6. What is the process for creating a class instance?\n",
    "\n",
    "\n",
    "#Ans6.To create a class instance, we need to call the class by its name and pass the argument to the class, which its init \n",
    "#        method accepts.\n",
    "#      Example:\n",
    "#        my_name = my_class(\"Sonali\",\"Thakur\") here my_name is instance of class my_class with attributes 'Sonali' and 'Thakur'"
   ]
  },
  {
   "cell_type": "code",
   "execution_count": 6,
   "id": "5c2a07f5",
   "metadata": {},
   "outputs": [],
   "source": [
    "#Q7. What is the process for creating a class?\n",
    "\n",
    "\n",
    "#Ans7. Class keyword is used to creaate a class in python.\n",
    "#        Example:\n",
    "#            class shape (this creates a class called shape)"
   ]
  },
  {
   "cell_type": "code",
   "execution_count": null,
   "id": "2e5059dd",
   "metadata": {},
   "outputs": [],
   "source": [
    "#Q8. How would you define the superclass of a class?\n",
    "\n",
    "#Ans8. class DataScience(Ineuron) : Here the child class DtaScience inherits the attributes and method/function from superclass/\n",
    "        parent Ineuron"
   ]
  }
 ],
 "metadata": {
  "kernelspec": {
   "display_name": "Python 3 (ipykernel)",
   "language": "python",
   "name": "python3"
  },
  "language_info": {
   "codemirror_mode": {
    "name": "ipython",
    "version": 3
   },
   "file_extension": ".py",
   "mimetype": "text/x-python",
   "name": "python",
   "nbconvert_exporter": "python",
   "pygments_lexer": "ipython3",
   "version": "3.9.12"
  }
 },
 "nbformat": 4,
 "nbformat_minor": 5
}
