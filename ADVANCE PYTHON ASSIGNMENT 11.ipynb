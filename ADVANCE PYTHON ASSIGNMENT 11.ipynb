{
 "cells": [
  {
   "cell_type": "markdown",
   "id": "ee490224",
   "metadata": {},
   "source": [
    "# ADVANCE PYTHON ASSIGNMENT 11"
   ]
  },
  {
   "cell_type": "markdown",
   "id": "18f4af25",
   "metadata": {},
   "source": [
    "Q1. What is the concept of a metaclass?\n",
    "\n",
    "\n",
    "ANS1. Metaclasses are classes that inherit directly from type. The method that custom metaclasses should implement is the __new__ method. The arguments mentioned in the __new__  method of metaclasses reflects in the __new__ method of type class. It has four positional arguments. They are as follows:\n",
    "\n",
    "The first argument is the metaclass itself.\n",
    "The second argument is the class name.\n",
    "The third argument is the  superclasses (in the form of tuple)\n",
    "The fourth argument is the attributes of class (in the form of dictionary)"
   ]
  },
  {
   "cell_type": "code",
   "execution_count": 1,
   "id": "937c0e55",
   "metadata": {},
   "outputs": [
    {
     "name": "stdout",
     "output_type": "stream",
     "text": [
      "clsname: C\n",
      "superclasses: (<class 'object'>,)\n",
      "attrdict: {}\n",
      "class type: <class '__main__.MetaCls'>\n"
     ]
    }
   ],
   "source": [
    "class MetaCls(type):\n",
    "\t\"\"\"A sample metaclass without any functionality\"\"\"\n",
    "\tdef __new__(cls, clsname, superclasses, attributedict):\n",
    "\t\tprint(\"clsname:\", clsname)\n",
    "\t\tprint(\"superclasses:\", superclasses)\n",
    "\t\tprint(\"attrdict:\", attributedict)\n",
    "\t\treturn super(MetaCls, cls).__new__(cls, \\\n",
    "\t\t\t\t\tclsname, superclasses, attributedict)\n",
    "\n",
    "C = MetaCls('C', (object, ), {})\n",
    "print(\"class type:\", type(C))\n"
   ]
  },
  {
   "cell_type": "markdown",
   "id": "18a9a8c1",
   "metadata": {},
   "source": [
    "You can note that the type of class C is a metaclass – MetaCls."
   ]
  },
  {
   "cell_type": "markdown",
   "id": "216e2aa4",
   "metadata": {},
   "source": [
    "Q2. What is the best way to declare a class's metaclass?\n",
    "\n",
    "\n",
    "Ans: A way to declare a class’ metaclass is by using metaclass keyword in class definition."
   ]
  },
  {
   "cell_type": "code",
   "execution_count": 3,
   "id": "0feead0c",
   "metadata": {},
   "outputs": [
    {
     "name": "stdout",
     "output_type": "stream",
     "text": [
      "<class 'type'>\n",
      "<class '__main__.meta'>\n"
     ]
    }
   ],
   "source": [
    "class meta(type):\n",
    "    pass\n",
    "class class_meta(metaclass=meta):\n",
    "    pass\n",
    "print(type(meta))\n",
    "print(type(class_meta))\n"
   ]
  },
  {
   "cell_type": "markdown",
   "id": "85cafca5",
   "metadata": {},
   "source": [
    "Q3. How do class decorators overlap with metaclasses for handling classes ?\n",
    "\n",
    "\n",
    "Ans: Anything you can do with a class decorator, you can of course do with a custom metaclasses (just apply the functionality of the \"decorator function\", i.e., the one that takes a class object and modifies it, in the course of the metaclass's __new__ or __init__ that make the class object!)."
   ]
  },
  {
   "cell_type": "markdown",
   "id": "80286b17",
   "metadata": {},
   "source": [
    "Q4. How do class decorators overlap with metaclasses for handling instances\n",
    "\n",
    "Ans: Anything you can do with a class decorator, you can of course do with a custom metaclass (just apply the functionality of the \"decorator function\", i.e., the one that takes a class object and modifies it, in the course of the metaclass's __new__ or __init__ that make the class object!)."
   ]
  }
 ],
 "metadata": {
  "kernelspec": {
   "display_name": "Python 3 (ipykernel)",
   "language": "python",
   "name": "python3"
  },
  "language_info": {
   "codemirror_mode": {
    "name": "ipython",
    "version": 3
   },
   "file_extension": ".py",
   "mimetype": "text/x-python",
   "name": "python",
   "nbconvert_exporter": "python",
   "pygments_lexer": "ipython3",
   "version": "3.9.12"
  }
 },
 "nbformat": 4,
 "nbformat_minor": 5
}
